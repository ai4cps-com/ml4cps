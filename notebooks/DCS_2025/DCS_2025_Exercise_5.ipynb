{
 "cells": [
  {
   "metadata": {},
   "cell_type": "markdown",
   "source": [
    "# Reinforcement learning (RL)\n",
    "## The goal\n",
    "The goal of this exercise is to practice the key RL concepts.\n",
    "\n",
    "\n",
    "### Task 1:\n",
    "\n",
    "### Task 2: What is the expected (discounted) cumulative reward if starting from s1 and taking two actions in each episode? Assume policy:\n",
    "$$ \\pi (s_1) = a_1$$\n",
    "$$ \\pi (s_2) = a_2$$\n",
    "$$ \\pi (s_3) = a_1$$\n",
    "The environment is given below. "
   ],
   "id": "91aa658ac5e69efe"
  },
  {
   "metadata": {
    "ExecuteTime": {
     "end_time": "2024-12-10T15:48:16.318307Z",
     "start_time": "2024-12-10T15:48:13.134294Z"
    }
   },
   "cell_type": "code",
   "source": [
    "from ml4cps import automata\n",
    "from ml4cps import control\n",
    "from ml4cps import vis\n",
    "ta = automata.Automaton(states=[\"s1\", \"s2\", \"s3\"], transitions=[dict(source=\"s1\", event=\"a1\", dest=\"s2\", p=0.8, r=10), \n",
    "                                                                 dict(source=\"s1\", event=\"a1\", dest=\"s3\", p=0.2, r=5), \n",
    "                                                                 dict(source=\"s1\", event=\"a2\", dest=\"s3\", p=1, r=7), \n",
    "                                                                 dict(source=\"s2\", event=\"a1\", dest=\"s3\", p=0.9, r=0), \n",
    "                                                                 dict(source=\"s2\", event=\"a2\", dest=\"s1\", p=1, r=20),\n",
    "                                                                 dict(source=\"s2\", event=\"a1\", dest=\"s1\", p=0.1, r=15),\n",
    "                                                                 dict(source=\"s3\", event=\"a1\", dest=\"s2\", p=0.3, r=8),\n",
    "                                                                 dict(source=\"s3\", event=\"a2\", dest=\"s2\", p=1, r=-5),\n",
    "                                                                 dict(source=\"s3\", event=\"a1\", dest=\"s1\", p=0.7, r=12)], initial_q=\"s1\")\n",
    "env = control.EnvironmentTA(ta)\n",
    "vis.plot_cps_component(ta, output=\"notebook\", color=\"hsu\", node_labels=True, center_node_labels=True, show_transition_data=True, min_zoom=3, max_zoom=3)"
   ],
   "id": "2f629d862dc3080f",
   "outputs": [
    {
     "data": {
      "text/plain": [
       "<IPython.lib.display.IFrame at 0x25638be4c50>"
      ],
      "text/html": [
       "\n",
       "        <iframe\n",
       "            width=\"100%\"\n",
       "            height=\"650\"\n",
       "            src=\"http://127.0.0.1:8050/\"\n",
       "            frameborder=\"0\"\n",
       "            allowfullscreen\n",
       "            \n",
       "        ></iframe>\n",
       "        "
      ]
     },
     "metadata": {},
     "output_type": "display_data"
    }
   ],
   "execution_count": 1
  },
  {
   "metadata": {
    "ExecuteTime": {
     "end_time": "2024-12-03T11:32:19.480455Z",
     "start_time": "2024-12-03T11:32:19.477421Z"
    }
   },
   "cell_type": "code",
   "source": "print(env)",
   "id": "4e01533b7580eae6",
   "outputs": [
    {
     "name": "stdout",
     "output_type": "stream",
     "text": [
      "<EnvironmentTA instance>\n"
     ]
    }
   ],
   "execution_count": 5
  },
  {
   "metadata": {
    "ExecuteTime": {
     "end_time": "2024-12-03T11:32:19.929717Z",
     "start_time": "2024-12-03T11:32:19.480964Z"
    }
   },
   "cell_type": "code",
   "source": [
    "from ml4cps.control import Agent\n",
    "\n",
    "policy_dict = dict(s1=\"a1\", s2=\"s2\", s3=\"a1\")\n",
    "    \n",
    "agent = Agent(policy=policy_dict, gamma=0.9)\n",
    "agent.expected_cumulative_reward()\n"
   ],
   "id": "3d496a4b857d7d0e",
   "outputs": [
    {
     "ename": "AttributeError",
     "evalue": "'Agent' object has no attribute 'expected_cumulative_reward'",
     "output_type": "error",
     "traceback": [
      "\u001B[1;31m---------------------------------------------------------------------------\u001B[0m",
      "\u001B[1;31mAttributeError\u001B[0m                            Traceback (most recent call last)",
      "Cell \u001B[1;32mIn[6], line 6\u001B[0m\n\u001B[0;32m      3\u001B[0m policy_dict \u001B[38;5;241m=\u001B[39m \u001B[38;5;28mdict\u001B[39m(s1\u001B[38;5;241m=\u001B[39m\u001B[38;5;124m\"\u001B[39m\u001B[38;5;124ma1\u001B[39m\u001B[38;5;124m\"\u001B[39m, s2\u001B[38;5;241m=\u001B[39m\u001B[38;5;124m\"\u001B[39m\u001B[38;5;124ms2\u001B[39m\u001B[38;5;124m\"\u001B[39m, s3\u001B[38;5;241m=\u001B[39m\u001B[38;5;124m\"\u001B[39m\u001B[38;5;124ma1\u001B[39m\u001B[38;5;124m\"\u001B[39m)\n\u001B[0;32m      5\u001B[0m agent \u001B[38;5;241m=\u001B[39m Agent(policy\u001B[38;5;241m=\u001B[39mpolicy_dict, gamma\u001B[38;5;241m=\u001B[39m\u001B[38;5;241m0.9\u001B[39m)\n\u001B[1;32m----> 6\u001B[0m agent\u001B[38;5;241m.\u001B[39mexpected_cumulative_reward()\n",
      "\u001B[1;31mAttributeError\u001B[0m: 'Agent' object has no attribute 'expected_cumulative_reward'"
     ]
    }
   ],
   "execution_count": 6
  },
  {
   "metadata": {
    "ExecuteTime": {
     "end_time": "2024-12-03T13:49:03.197191Z",
     "start_time": "2024-12-03T13:48:23.525304Z"
    }
   },
   "cell_type": "code",
   "source": [
    "import gymnasium as gym\n",
    "import numpy as np\n",
    "import matplotlib.pyplot as plt\n",
    "\n",
    "# Initialize the environment\n",
    "env = gym.make(\"LunarLander-v3\")  # v2 works for discrete actions\n",
    "\n",
    "# Parameters\n",
    "alpha = 0.1  # Learning rate\n",
    "gamma = 0.99  # Discount factor\n",
    "epsilon = 1.0  # Initial exploration rate\n",
    "epsilon_min = 0.1  # Minimum exploration rate\n",
    "epsilon_decay = 0.995  # Exploration decay rate\n",
    "num_episodes = 2000  # Total episodes\n",
    "max_steps = 500  # Maximum steps per episode\n",
    "bins = 10  # Discretization bins for state space\n",
    "\n",
    "# Discretize the state space\n",
    "state_bins = [np.linspace(-1, 1, bins) for _ in range(8)]  # 8 state features\n",
    "\n",
    "\n",
    "def discretize_state(state):\n",
    "    \"\"\"Discretize the continuous state into discrete bins.\"\"\"\n",
    "    state_idx = [np.digitize(s, state_bins[i]) - 1 for i, s in enumerate(state)]\n",
    "    return tuple(state_idx)\n",
    "\n",
    "\n",
    "# Initialize Q-table\n",
    "q_table = np.zeros([bins] * 8 + [env.action_space.n])\n",
    "\n",
    "# Q-learning algorithm\n",
    "rewards = []\n",
    "for episode in range(num_episodes):\n",
    "    state = discretize_state(env.reset()[0])  # Reset environment\n",
    "    total_reward = 0\n",
    "    for step in range(max_steps):\n",
    "        # Choose an action using epsilon-greedy policy\n",
    "        if np.random.rand() < epsilon:\n",
    "            action = env.action_space.sample()  # Explore\n",
    "        else:\n",
    "            action = np.argmax(q_table[state])  # Exploit\n",
    "\n",
    "        # Take action and observe the next state and reward\n",
    "        next_state, reward, done, truncated, _ = env.step(action)\n",
    "        next_state = discretize_state(next_state)\n",
    "        total_reward += reward\n",
    "\n",
    "        delta = gamma * np.max(q_table[next_state]) - q_table[state][action]\n",
    "        # Q-value update\n",
    "        q_table[state][action] += alpha * (reward + delta)\n",
    "\n",
    "        # Transition to the next state\n",
    "        state = next_state\n",
    "\n",
    "        if done:\n",
    "            break\n",
    "\n",
    "    # Decay epsilon to reduce exploration over time\n",
    "    epsilon = max(epsilon_min, epsilon * epsilon_decay)\n",
    "\n",
    "    # Store total reward for this episode\n",
    "    rewards.append(total_reward)\n",
    "\n",
    "    # Print progress\n",
    "    if (episode + 1) % 100 == 0:\n",
    "        print(f\"Episode {episode + 1}/{num_episodes}, Total Reward: {total_reward}\")\n",
    "\n",
    "# Close environment\n",
    "env.close()\n",
    "\n",
    "# Visualization of learning progress\n",
    "plt.plot(np.arange(num_episodes), rewards)\n",
    "plt.xlabel(\"Episode\")\n",
    "plt.ylabel(\"Total Reward\")\n",
    "plt.title(\"Learning Progress of Q-Learning Agent\")\n",
    "plt.show()"
   ],
   "id": "4562c667040a874a",
   "outputs": [
    {
     "name": "stdout",
     "output_type": "stream",
     "text": [
      "Episode 100/2000, Total Reward: -226.89026750067333\n",
      "Episode 200/2000, Total Reward: -185.6704725507414\n",
      "Episode 300/2000, Total Reward: -77.94379776318888\n",
      "Episode 400/2000, Total Reward: -120.09493774581892\n",
      "Episode 500/2000, Total Reward: -318.9599288141102\n",
      "Episode 600/2000, Total Reward: -125.49526627005872\n",
      "Episode 700/2000, Total Reward: -165.1434386322573\n",
      "Episode 800/2000, Total Reward: -99.51901564942278\n",
      "Episode 900/2000, Total Reward: -355.2974827229378\n",
      "Episode 1000/2000, Total Reward: -205.64530095451312\n",
      "Episode 1100/2000, Total Reward: -53.13682832554281\n",
      "Episode 1200/2000, Total Reward: -114.27372741199986\n",
      "Episode 1300/2000, Total Reward: -190.89016935091695\n",
      "Episode 1400/2000, Total Reward: -56.3726853991678\n",
      "Episode 1500/2000, Total Reward: -243.12188766628842\n",
      "Episode 1600/2000, Total Reward: -84.35864602325053\n",
      "Episode 1700/2000, Total Reward: -171.9507640120296\n",
      "Episode 1800/2000, Total Reward: -134.270575370316\n",
      "Episode 1900/2000, Total Reward: 66.88752605989585\n",
      "Episode 2000/2000, Total Reward: -267.8714376832004\n"
     ]
    },
    {
     "data": {
      "text/plain": [
       "<Figure size 640x480 with 1 Axes>"
      ],
      "image/png": "[encoded data removed]"
     },
     "metadata": {},
     "output_type": "display_data"
    },
    {
     "name": "stdout",
     "output_type": "stream",
     "text": [
      "True\n",
      "Total Reward of Trained Agent: -312.4176589465876\n"
     ]
    }
   ],
   "execution_count": 7
  },
  {
   "metadata": {},
   "cell_type": "code",
   "source": [
    "from IPython.display import display, clear_output\n",
    "import matplotlib.pyplot as plt\n",
    "\n",
    "# state = discretize_state(env.reset()[0])\n",
    "done = False\n",
    "total_reward = 0\n",
    "\n",
    "env = gym.make(\"LunarLander-v3\", render_mode=\"rgb_array\")\n",
    "env.reset()\n",
    "\n",
    "plt.ion()\n",
    "fig, ax = plt.subplots(figsize=(8, 6))\n",
    "while not done:\n",
    "    action = np.argmax(q_table[state])  # Use the learned policy\n",
    "    next_state, reward, done, _, _ = env.step(action)\n",
    "    state = discretize_state(next_state)\n",
    "    total_reward += reward\n",
    "    \n",
    "    frame = env.render()\n",
    "\n",
    "    # Clear previous output and display the frame\n",
    "    clear_output(wait=True)\n",
    "    ax.imshow(frame)\n",
    "    ax.axis('off')\n",
    "    display(fig)\n",
    "    plt.pause(0.1)\n",
    "\n",
    "print(done)\n",
    "print(f\"Total Reward of Trained Agent: {total_reward}\")\n",
    "env.close()"
   ],
   "id": "8869e17c5adfe7fe",
   "execution_count": 13,
   "outputs": [
    {
     "name": "stdout",
     "output_type": "stream",
     "text": [
      "True\n",
      "Total Reward of Trained Agent: -117.12028758296103\n"
     ]
    }
   ]
  }
 ],
 "metadata": {
  "kernelspec": {
   "display_name": "Python 3",
   "language": "python",
   "name": "python3"
  },
  "language_info": {
   "codemirror_mode": {
    "name": "ipython",
    "version": 2
   },
   "file_extension": ".py",
   "mimetype": "text/x-python",
   "name": "python",
   "nbconvert_exporter": "python",
   "pygments_lexer": "ipython2",
   "version": "2.7.6"
  }
 },
 "nbformat": 4,
 "nbformat_minor": 5
}
